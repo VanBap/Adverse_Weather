{
  "cells": [
    {
      "cell_type": "markdown",
      "metadata": {
        "id": "view-in-github",
        "colab_type": "text"
      },
      "source": [
        "<a href=\"https://colab.research.google.com/github/VanBap/Adverse_Weather/blob/master/Adverse_weather_detection_model.ipynb\" target=\"_parent\"><img src=\"https://colab.research.google.com/assets/colab-badge.svg\" alt=\"Open In Colab\"/></a>"
      ]
    },
    {
      "cell_type": "code",
      "execution_count": null,
      "metadata": {
        "id": "NYUz-df9gD2B"
      },
      "outputs": [],
      "source": [
        "# Ngô Hoàng Khánh Văn - 20021599\n",
        "\n",
        "from tensorflow import keras\n",
        "from tensorflow.keras import layers\n",
        "from tensorflow.keras.models import Sequential\n",
        "from tensorflow.keras.models import Model\n",
        "from tensorflow.keras.layers import Conv2D,Flatten,Dense,MaxPool2D,BatchNormalization,GlobalAveragePooling2D\n",
        "from tensorflow.keras.applications.resnet50 import preprocess_input, decode_predictions\n",
        "from tensorflow.keras.preprocessing.image import ImageDataGenerator, load_img\n",
        "from tensorflow.keras.applications.resnet50 import ResNet50\n",
        "from tensorflow.keras.preprocessing import image\n",
        "\n",
        "\n",
        "import tensorflow as tf\n",
        "import os\n",
        "import matplotlib.pyplot as plt\n",
        "import numpy as np\n",
        "import glob\n",
        "import pathlib\n",
        "import pandas as pd"
      ]
    },
    {
      "cell_type": "markdown",
      "metadata": {
        "id": "NQGXUUKYxZaF"
      },
      "source": [
        "**Kết nối với GGDRIVE**"
      ]
    },
    {
      "cell_type": "code",
      "execution_count": null,
      "metadata": {
        "colab": {
          "base_uri": "https://localhost:8080/"
        },
        "id": "gW6XDGpNamCX",
        "outputId": "b30cc91a-010f-4f79-f0bd-4e85abb55f97"
      },
      "outputs": [
        {
          "output_type": "stream",
          "name": "stdout",
          "text": [
            "Drive already mounted at /content/drive; to attempt to forcibly remount, call drive.mount(\"/content/drive\", force_remount=True).\n"
          ]
        }
      ],
      "source": [
        "# Run this cell if u can't mount ur drive automatically\n",
        "from google.colab import drive\n",
        "drive.mount('/content/drive')"
      ]
    },
    {
      "cell_type": "markdown",
      "metadata": {
        "id": "0cazqkgLxdn1"
      },
      "source": [
        "**1. DATA**"
      ]
    },
    {
      "cell_type": "code",
      "execution_count": null,
      "metadata": {
        "id": "xPVcifcxhOU3"
      },
      "outputs": [],
      "source": [
        "train_data_dir = '/content/drive/MyDrive/KHOA_LUAN/DATASET_splitted/train'\n",
        "valid_data_dir = '/content/drive/MyDrive/KHOA_LUAN/DATASET_splitted/val'\n",
        "test_data_dir = '/content/drive/MyDrive/KHOA_LUAN/DATASET_splitted/test'\n",
        "\n",
        "# 5-fold cross validation\n",
        "# train_data_dir = '/content/drive/MyDrive/DATASET_5_fold_splitted/train'\n",
        "# test_data_dir = '/content/drive/MyDrive/DATASET_5_fold_splitted/test'\n"
      ]
    },
    {
      "cell_type": "markdown",
      "metadata": {
        "id": "R5Ki9lF7xoDn"
      },
      "source": [
        "Hiển thị số lượng ảnh có và nhãn của chúng (tên folder)"
      ]
    },
    {
      "cell_type": "code",
      "execution_count": null,
      "metadata": {
        "colab": {
          "base_uri": "https://localhost:8080/"
        },
        "id": "2SMTNf0CqzxP",
        "outputId": "f2ac8d6f-683b-4dc9-a938-520e41e2b001"
      },
      "outputs": [
        {
          "output_type": "stream",
          "name": "stdout",
          "text": [
            "Number of sub folder: 7\n",
            "Number of images in Sunrise: 214\n",
            "Number of images in Snowy: 122\n",
            "Number of images in Shine: 151\n",
            "Number of images in Sandy: 193\n",
            "Number of images in Rainy: 249\n",
            "Number of images in Fog: 180\n",
            "Number of images in Cloudy: 180\n",
            "Total number of train images: 1289\n",
            "============================================\n",
            "Images in train folder\n",
            "Number of sub folder: 7\n",
            "Number of images in Sunrise: 71\n",
            "Number of images in Snowy: 40\n",
            "Number of images in Shine: 50\n",
            "Number of images in Sandy: 64\n",
            "Number of images in Rainy: 83\n",
            "Number of images in Fog: 60\n",
            "Number of images in Cloudy: 60\n",
            "Total number of valid images: 428\n",
            "============================================\n",
            "Images in train folder\n",
            "Number of sub folder: 7\n",
            "Number of images in Sunrise: 72\n",
            "Number of images in Snowy: 42\n",
            "Number of images in Shine: 52\n",
            "Number of images in Sandy: 66\n",
            "Number of images in Rainy: 83\n",
            "Number of images in Fog: 60\n",
            "Number of images in Cloudy: 60\n",
            "Total number of test images: 435\n",
            "============================================\n",
            "TOTAL IMAGES:2152\n"
          ]
        }
      ],
      "source": [
        "num_images = len(os.listdir(train_data_dir))\n",
        "print(\"Number of sub folder:\", num_images)\n",
        "subfolders = ['Sunrise', 'Snowy', 'Shine', 'Sandy', 'Rainy', 'Fog', 'Cloudy']\n",
        "\n",
        "# Tạo biến để lưu tổng số ảnh\n",
        "total_images_1 = 0\n",
        "# Đếm số lượng ảnh trong mỗi thư mục con và tính tổng\n",
        "for subfolder in subfolders:\n",
        "    subfolder_path = os.path.join(train_data_dir, subfolder)\n",
        "    num_images = len(os.listdir(subfolder_path))\n",
        "    print(f\"Number of images in {subfolder}: {num_images}\")\n",
        "    total_images_1 += num_images\n",
        "# In tổng số ảnh\n",
        "print(\"Total number of train images:\", total_images_1)\n",
        "\n",
        "print(\"============================================\")\n",
        "\n",
        "num_images = len(os.listdir(valid_data_dir))\n",
        "print(\"Images in train folder\")\n",
        "print(\"Number of sub folder:\", num_images)\n",
        "subfolders = ['Sunrise', 'Snowy', 'Shine', 'Sandy', 'Rainy', 'Fog', 'Cloudy']\n",
        "# Tạo biến để lưu tổng số ảnh\n",
        "total_images_2 = 0\n",
        "# Đếm số lượng ảnh trong mỗi thư mục con và tính tổng\n",
        "for subfolder in subfolders:\n",
        "    subfolder_path = os.path.join(valid_data_dir, subfolder)\n",
        "    num_images = len(os.listdir(subfolder_path))\n",
        "    print(f\"Number of images in {subfolder}: {num_images}\")\n",
        "    total_images_2  += num_images\n",
        "# In tổng số ảnh\n",
        "print(\"Total number of valid images:\", total_images_2 )\n",
        "\n",
        "print(\"============================================\")\n",
        "\n",
        "num_images = len(os.listdir(test_data_dir))\n",
        "print(\"Images in train folder\")\n",
        "print(\"Number of sub folder:\", num_images)\n",
        "subfolders = ['Sunrise', 'Snowy', 'Shine', 'Sandy', 'Rainy', 'Fog', 'Cloudy']\n",
        "# Tạo biến để lưu tổng số ảnh\n",
        "total_images_3 = 0\n",
        "# Đếm số lượng ảnh trong mỗi thư mục con và tính tổng\n",
        "for subfolder in subfolders:\n",
        "    subfolder_path = os.path.join(test_data_dir, subfolder)\n",
        "    num_images = len(os.listdir(subfolder_path))\n",
        "    print(f\"Number of images in {subfolder}: {num_images}\")\n",
        "    total_images_3 += num_images\n",
        "# In tổng số ảnh\n",
        "print(\"Total number of test images:\", total_images_3)\n",
        "\n",
        "print(\"============================================\")\n",
        "\n",
        "final = total_images_3+total_images_2+total_images_1\n",
        "print(f\"TOTAL IMAGES:{final}\")"
      ]
    },
    {
      "cell_type": "markdown",
      "metadata": {
        "id": "d-YnPk0YxuqP"
      },
      "source": [
        "Hiển thị thử 1 ảnh"
      ]
    },
    {
      "cell_type": "code",
      "execution_count": null,
      "metadata": {
        "id": "AqWjjNUXm5Y4"
      },
      "outputs": [],
      "source": [
        "import PIL\n",
        "import pathlib\n",
        "train_data_dir = pathlib.Path(train_data_dir)\n",
        "print(train_data_dir)\n",
        "weather = list(train_data_dir.glob('Snowy/*'))\n",
        "print(weather[0])\n",
        "PIL.Image.open(weather[0])\n"
      ]
    },
    {
      "cell_type": "markdown",
      "metadata": {
        "id": "0mdbUT0EbdDN"
      },
      "source": [
        "* **Image processing**"
      ]
    },
    {
      "cell_type": "code",
      "execution_count": null,
      "metadata": {
        "colab": {
          "base_uri": "https://localhost:8080/"
        },
        "id": "aomMCIeQcfiq",
        "outputId": "7372f72d-a4cc-499d-be2b-3ee398e7606f"
      },
      "outputs": [
        {
          "output_type": "stream",
          "name": "stdout",
          "text": [
            "Found 1289 images belonging to 7 classes.\n",
            "Found 428 images belonging to 7 classes.\n",
            "Found 435 images belonging to 7 classes.\n"
          ]
        },
        {
          "output_type": "execute_result",
          "data": {
            "text/plain": [
              "{'Cloudy': 0,\n",
              " 'Fog': 1,\n",
              " 'Rainy': 2,\n",
              " 'Sandy': 3,\n",
              " 'Shine': 4,\n",
              " 'Snowy': 5,\n",
              " 'Sunrise': 6}"
            ]
          },
          "metadata": {},
          "execution_count": 7
        }
      ],
      "source": [
        "img_height, img_width = (224, 224)\n",
        "batch_size = 32\n",
        "\n",
        "train_datagen = ImageDataGenerator(preprocessing_function=preprocess_input,\n",
        "                                   shear_range=0.2,\n",
        "                                   zoom_range=0.2,\n",
        "                                   horizontal_flip=True\n",
        "                                   )\n",
        "# tạo dữ liệu tăng cường: xoay ảnh = 0.2; phóng to = 0.2; lật ảnh ngang; giữ 40% cho validation\n",
        "\n",
        "train_generator = train_datagen.flow_from_directory(\n",
        "    train_data_dir,\n",
        "    target_size=(img_height, img_width),\n",
        "    batch_size = batch_size,\n",
        "    class_mode='categorical')\n",
        "    #subset='training') # set as training data\n",
        "\n",
        "valid_generator = train_datagen.flow_from_directory(\n",
        "    valid_data_dir,\n",
        "    target_size=(img_height, img_width),\n",
        "    batch_size = batch_size,\n",
        "    class_mode='categorical')\n",
        "    #subset='validation') # set as validation data\n",
        "\n",
        "test_generator = train_datagen.flow_from_directory(\n",
        "    test_data_dir,\n",
        "    target_size=(img_height, img_width),\n",
        "    batch_size = 1,\n",
        "    class_mode='categorical')\n",
        "    #subset='validation') # set as testing data\n",
        "\n",
        "train_generator.class_indices\n",
        "valid_generator.class_indices\n",
        "test_generator.class_indices"
      ]
    },
    {
      "cell_type": "markdown",
      "metadata": {
        "id": "HRIRCfrYmNYD"
      },
      "source": [
        "* **5 fold cross validation (Chưa làm được)**\n"
      ]
    },
    {
      "cell_type": "code",
      "execution_count": null,
      "metadata": {
        "id": "euoKBz1Yu5r-"
      },
      "outputs": [],
      "source": [
        "# from sklearn.model_selection import KFold\n",
        "# # Khởi tạo đối tượng KFold với 5 folds\n",
        "# img_height, img_width = (224, 224)\n",
        "# batch_size = 32\n",
        "\n",
        "# i = 1\n",
        "# df_metrics = pd.DataFrame()\n",
        "# print(df_metrics.shape)\n",
        "# kf = KFold(n_splits=5, shuffle=True, random_state=42)\n",
        "\n",
        "# for train_index, test_index in kf.split(dataframe):\n",
        "#   trainData = dataframe.iloc[train_index]\n",
        "#   testData = dataframe.iloc[test_index]\n",
        "#   print('Initializing Kfold %s'%str(i))\n",
        "#   print('Train shape:',trainData.shape)\n",
        "#   print('Test shape:',testData.shape)\n",
        "#   epochs = 30\n",
        "\n",
        "#   # tạo dữ liệu tăng cường: xoay ảnh = 0.2; phóng to = 0.2; lật ảnh ngang; giữ 40% cho validation\n",
        "#   train_datagen = ImageDataGenerator(preprocessing_function=preprocess_input,\n",
        "#                               shear_range=0.2,\n",
        "#                               zoom_range=0.2,\n",
        "#                               horizontal_flip=True,\n",
        "#                               validation_split=0.4)\n",
        "\n",
        "#   test_datagen = ImageDataGenerator(rescale=1. / 255)\n",
        "\n",
        "#   train_generator=train_datagen.flow_from_dataframe(\n",
        "#   dataframe=trainData,\n",
        "#   directory=train_data_dir,\n",
        "#   x_col=\"id\",\n",
        "#   y_col=\"label\",\n",
        "#   subset=\"training\",\n",
        "#   batch_size=batch_size,\n",
        "#   shuffle=True,\n",
        "#   class_mode=\"categorical\",\n",
        "#   target_size=(img_width, img_height))\n",
        "\n",
        "#   validation_generator=train_datagen.flow_from_dataframe(\n",
        "#   dataframe=trainData,\n",
        "#   directory=train_data_dir,\n",
        "#   x_col=\"id\",\n",
        "#   y_col=\"label\",\n",
        "#   subset=\"validation\",\n",
        "#   batch_size=batch_size,\n",
        "#   shuffle=True,\n",
        "#   class_mode=\"categorical\",\n",
        "#   target_size=(img_width, img_height))\n",
        "\n",
        "#   test_generator=test_datagen.flow_from_dataframe(\n",
        "#   dataframe=testData,\n",
        "#   directory=test_data_dir,\n",
        "#   x_col=\"id\",\n",
        "#   y_col=\"label\",\n",
        "#   batch_size=1,\n",
        "#   shuffle=False,\n",
        "#   class_mode=\"categorical\",\n",
        "#   target_size=(img_width, img_height)\n",
        "#   )\n",
        "#   i +=1"
      ]
    },
    {
      "cell_type": "code",
      "execution_count": null,
      "metadata": {
        "id": "TOJjxHO_cZNM"
      },
      "outputs": [],
      "source": [
        "# from sklearn.model_selection import KFold\n",
        "# # Khởi tạo đối tượng KFold với 5 folds\n",
        "# kf = KFold(n_splits=5, shuffle=True, random_state=42)\n",
        "\n",
        "# # Lặp qua từng fold\n",
        "# for fold, (train_index, val_index) in enumerate(kf.split(train_generator.filenames)):\n",
        "#     print(f\"Fold {fold + 1}\")\n",
        "\n",
        "#     # Tạo mô hình mới cho mỗi fold\n",
        "#     model = get_model()\n",
        "\n",
        "#     # Khởi tạo iterator cho train_generator và valid_generator\n",
        "#     train_iterator = iter(train_generator)\n",
        "#     val_iterator = iter(valid_generator)\n",
        "\n",
        "#     # Lặp qua từng index trong fold\n",
        "#     for i in train_index:\n",
        "#         next(train_iterator)  # Bỏ qua các batch cho đến khi đạt đến index cần thiết\n",
        "\n",
        "#     for i in val_index:\n",
        "#         next(val_iterator)  # Bỏ qua các batch cho đến khi đạt đến index cần thiết\n",
        "\n",
        "#     # Trích xuất dữ liệu từ generator cho fold hiện tại\n",
        "#     train_data = next(train_iterator)\n",
        "#     val_data = next(val_iterator)\n",
        "\n",
        "#     # Huấn luyện mô hình\n",
        "#     model.fit(train_data, epochs=10, validation_data=val_data)\n",
        "\n",
        "#     # Đánh giá mô hình trên tập test\n",
        "#     test_loss, test_acc = model.evaluate(test_generator)\n",
        "#     print(f\"Test accuracy for fold {fold + 1}: {test_acc}\")\n",
        "\n"
      ]
    },
    {
      "cell_type": "markdown",
      "metadata": {
        "id": "ioOj8hIKczoo"
      },
      "source": [
        "Truy cập thử thuộc tính của hình ảnh trong test_dir\n"
      ]
    },
    {
      "cell_type": "code",
      "execution_count": null,
      "metadata": {
        "colab": {
          "base_uri": "https://localhost:8080/"
        },
        "id": "ToHZkZuJURm2",
        "outputId": "9d6d15a8-3536-4ad8-d18a-f3518a945e80"
      },
      "outputs": [
        {
          "output_type": "stream",
          "name": "stdout",
          "text": [
            "image' shape:  (1, 224, 224, 3)\n",
            "label'shape:  (1, 7)\n",
            "[[0. 0. 1. 0. 0. 0. 0.]]\n"
          ]
        }
      ],
      "source": [
        "x = test_generator[8][0]\n",
        "y = test_generator[8][1]\n",
        "\n",
        "# input shape + output shape cua model.h5\n",
        "print(\"image' shape: \", x.shape)    # image input (matrix)\n",
        "print(\"label'shape: \", y.shape)     # label one-hot encoding\n",
        "print(y)"
      ]
    },
    {
      "cell_type": "code",
      "execution_count": null,
      "metadata": {
        "colab": {
          "base_uri": "https://localhost:8080/"
        },
        "id": "-B5vg0YnoeAo",
        "outputId": "5b944f1e-387e-42da-c033-374ee713ae8b"
      },
      "outputs": [
        {
          "output_type": "execute_result",
          "data": {
            "text/plain": [
              "1289"
            ]
          },
          "metadata": {},
          "execution_count": 9
        }
      ],
      "source": [
        "train_generator.samples"
      ]
    },
    {
      "cell_type": "markdown",
      "metadata": {
        "id": "Rbvbqyz6ytIU"
      },
      "source": [
        "**2. Train Model**"
      ]
    },
    {
      "cell_type": "code",
      "execution_count": null,
      "metadata": {
        "id": "QcZYAluCVi6G"
      },
      "outputs": [],
      "source": [
        "from tensorflow.keras.optimizers import Adam\n",
        "from tensorflow.keras.callbacks import ModelCheckpoint\n",
        "# base_model = ResNet50(include_top=False, weights='imagenet')\n",
        "# x = base_model.output\n",
        "# x = GlobalAveragePooling2D()(x)\n",
        "# x = Dense(1024, activation='relu')(x)\n",
        "# predictions = Dense(train_generator.num_classes, activation='softmax')(x)\n",
        "# model = Model(inputs = base_model.input, outputs = predictions)\n",
        "\n",
        "#def get_model():\n",
        "model = Sequential()\n",
        "model.add(ResNet50(include_top=False, weights='imagenet'))\n",
        "model.add(GlobalAveragePooling2D())\n",
        "model.add(Dense(1024, activation='relu'))\n",
        "model.add(Dense(train_generator.num_classes, activation='softmax'))\n",
        "\n",
        "model.summary()\n",
        "model.layers[0].trainable= False\n",
        "# for layer in base_model.layers:\n",
        "#   layer.trainable = False\n",
        "\n",
        "# Khởi tạo Adam optimizer\n",
        "optimizer = Adam()\n",
        "\n",
        "model.compile(optimizer=optimizer, loss='categorical_crossentropy', metrics= ['accuracy'])\n",
        "\n",
        "#model.fit(train_generator, epochs=10)\n",
        "n_train_steps = train_generator.n #train_generator.batch_size\n",
        "n_valid_steps = valid_generator.n #valid_generator.batch_size\n",
        "\n",
        "checkpoint = ModelCheckpoint(\"/content/drive/MyDrive/KHOA_LUAN/saved_model/my_model-\" + \"-loss-{val_loss:.2f}-acc-{val_accuracy:.2f}.h5\", save_best_only=True, verbose=1)\n",
        "\n",
        "epoch_number = 20\n",
        "\n",
        "history=model.fit_generator(generator=train_generator,\n",
        "                  steps_per_epoch=train_generator.samples//batch_size,\n",
        "                  validation_data=valid_generator,\n",
        "                  validation_steps=valid_generator.samples//batch_size,\n",
        "                  epochs=epoch_number,\n",
        "                  callbacks=[ checkpoint]\n",
        ")\n",
        "  #return model"
      ]
    },
    {
      "cell_type": "markdown",
      "metadata": {
        "id": "RPVb4RkGy9CR"
      },
      "source": [
        "**Save model**"
      ]
    },
    {
      "cell_type": "code",
      "execution_count": null,
      "metadata": {
        "id": "CJvW1grxilEb"
      },
      "outputs": [],
      "source": [
        "model.save('/content/drive/MyDrive/KHOA_LUAN/saved_model/ResNet50_Weather_epoch20.h5')\n"
      ]
    },
    {
      "cell_type": "markdown",
      "source": [
        "**Load model**"
      ],
      "metadata": {
        "id": "Svp8WO5N9X5O"
      }
    },
    {
      "cell_type": "code",
      "source": [
        "model = tf.keras.models.load_model('/content/drive/MyDrive/KHOA_LUAN/saved_model/ResNet50_Weather_epoch20.h5')\n"
      ],
      "metadata": {
        "id": "-eUEb6269Z-_"
      },
      "execution_count": null,
      "outputs": []
    },
    {
      "cell_type": "markdown",
      "metadata": {
        "id": "ohifQh8xI066"
      },
      "source": [
        "VẼ ĐỒ THỊ LOSS VÀ ACCURACY\n"
      ]
    },
    {
      "cell_type": "code",
      "execution_count": null,
      "metadata": {
        "id": "WMzl9PmdIL9W"
      },
      "outputs": [],
      "source": [
        "import matplotlib.pyplot as pyplot\n",
        "\n",
        "# plot loss và accuracy\n",
        "pyplot.figure(figsize=(20,10))\n",
        "pyplot.subplot(211)\n",
        "pyplot.title('Loss')\n",
        "pyplot.plot(history.history['loss'], label='train')\n",
        "pyplot.plot(history.history['val_loss'], label='val', marker='o')\n",
        "pyplot.legend()\n",
        "# plot accuracy during training\n",
        "pyplot.subplot(212)\n",
        "pyplot.title('Accuracy')\n",
        "pyplot.plot(history.history['accuracy'], label='train')\n",
        "pyplot.plot(history.history['val_accuracy'], label='val')\n",
        "pyplot.legend()\n",
        "pyplot.show()\n"
      ]
    },
    {
      "cell_type": "markdown",
      "metadata": {
        "id": "kVJjVHIIyyo2"
      },
      "source": [
        "Ghi kết quả train vào file training.txt"
      ]
    },
    {
      "cell_type": "code",
      "execution_count": null,
      "metadata": {
        "id": "loMl2m7kDWe3"
      },
      "outputs": [],
      "source": [
        "# Kiểm tra xem file đã tồn tại chưa\n",
        "import os\n",
        "file_exists = os.path.isfile('/content/drive/MyDrive/KHOA_LUAN/training_history.txt')\n",
        "\n",
        "# Lưu accuracy và loss vào file (ghi đè hoặc thêm mới)\n",
        "with open('/content/drive/MyDrive/KHOA_LUAN/training_history.txt', 'a' if file_exists else 'w') as f:\n",
        "    if not file_exists:\n",
        "        f.write('epoch,   loss, accuracy, val_loss, val_accuracy\\n')\n",
        "    for epoch in range(epoch_number):  # Vì đã thiết lập epochs=10 ở trên\n",
        "        f.write(f\"{epoch + 1}    ,{history.history['loss'][epoch]:.6f},{history.history['accuracy'][epoch]:.6f},{history.history['val_loss'][epoch]:.6f},{history.history['val_accuracy'][epoch]:.6f}\\n\")\n"
      ]
    },
    {
      "cell_type": "markdown",
      "metadata": {
        "id": "3fPLlBtfycUU"
      },
      "source": [
        "**3. Đánh giá Test**"
      ]
    },
    {
      "cell_type": "code",
      "execution_count": null,
      "metadata": {
        "colab": {
          "base_uri": "https://localhost:8080/"
        },
        "id": "b4dgn381YuLK",
        "outputId": "fb0409ac-7cbb-4a51-8f37-bd25f6aef82b"
      },
      "outputs": [
        {
          "output_type": "stream",
          "name": "stdout",
          "text": [
            "435/435 - 141s - loss: 0.3862 - accuracy: 0.9057 - 141s/epoch - 324ms/step\n",
            "\n",
            "Test accuracy 0.90574711561203\n"
          ]
        }
      ],
      "source": [
        "model = tf.keras.models.load_model('/content/drive/MyDrive/KHOA_LUAN/saved_model/ResNet50_Weather_epoch20.h5')\n",
        " # Test và in kết quả\n",
        "test_loss, test_acc = model.evaluate(test_generator, verbose = 2)\n",
        "print('\\nTest accuracy', test_acc)"
      ]
    },
    {
      "cell_type": "markdown",
      "metadata": {
        "id": "0Uh2uqUHyhG3"
      },
      "source": [
        "Ghi vào file training.txt"
      ]
    },
    {
      "cell_type": "code",
      "execution_count": null,
      "metadata": {
        "id": "OGijoI0Whwdg"
      },
      "outputs": [],
      "source": [
        "file_exists = os.path.isfile('/content/drive/MyDrive/KHOA_LUAN/training_history.txt')\n",
        "\n",
        "# Mở file để ghi (nếu file chưa tồn tại, sẽ được tạo mới)\n",
        "with open('/content/drive/MyDrive/KHOA_LUAN/training_history.txt', 'a') as f:\n",
        "    # Ghi accuracy và loss vào file\n",
        "    f.write(f'Test accuracy: {test_acc:.4f}, Test loss: {test_loss:.4f}\\n')"
      ]
    },
    {
      "cell_type": "markdown",
      "metadata": {
        "id": "_BW2JQswy5DZ"
      },
      "source": [
        "Hiển thị thử kết quả dự đoán"
      ]
    },
    {
      "cell_type": "code",
      "execution_count": null,
      "metadata": {
        "id": "P18IdWtktUhv",
        "colab": {
          "base_uri": "https://localhost:8080/",
          "height": 522
        },
        "outputId": "feff8931-2a26-446b-8bbd-45078a3e2230"
      },
      "outputs": [
        {
          "output_type": "stream",
          "name": "stdout",
          "text": [
            "1/1 [==============================] - 0s 465ms/step\n"
          ]
        },
        {
          "output_type": "stream",
          "name": "stderr",
          "text": [
            "WARNING:matplotlib.image:Clipping input data to the valid range for imshow with RGB data ([0..1] for floats or [0..255] for integers).\n"
          ]
        },
        {
          "output_type": "stream",
          "name": "stdout",
          "text": [
            "{'Cloudy': 0, 'Fog': 1, 'Rainy': 2, 'Sandy': 3, 'Shine': 4, 'Snowy': 5, 'Sunrise': 6}\n",
            "Answer:  2\n",
            "Answer:  Rainy\n"
          ]
        },
        {
          "output_type": "display_data",
          "data": {
            "text/plain": [
              "<Figure size 640x480 with 2 Axes>"
            ],
            "image/png": "[encoded data removed]"
          },
          "metadata": {}
        }
      ],
      "source": [
        "# Select only the input data from test_generator[8]\n",
        "x = test_generator[18][0]\n",
        "\n",
        "# Predict using the model\n",
        "predictions = model.predict(x)\n",
        "print(test_generator.class_indices)\n",
        "\n",
        "print(\"Answer: \", np.argmax(predictions))\n",
        "for i, j in test_generator.class_indices.items(): # i la keys, j la values\n",
        "  if j == np.argmax(predictions) :\n",
        "    print(\"Answer: \", i)\n",
        "\n",
        "plt.figure()\n",
        "plt.imshow(x[0])\n",
        "plt.colorbar()\n",
        "plt.grid(False)\n",
        "plt.show()"
      ]
    },
    {
      "cell_type": "markdown",
      "metadata": {
        "id": "N4TZwQiTzA4k"
      },
      "source": [
        "**Vẽ Confusion matrix dự đoán các ảnh trong folder test**"
      ]
    },
    {
      "cell_type": "code",
      "execution_count": null,
      "metadata": {
        "id": "HZeDpFDPixtr",
        "colab": {
          "base_uri": "https://localhost:8080/",
          "height": 1000
        },
        "outputId": "15a15706-01f0-4642-b620-6aa16618f746"
      },
      "outputs": [
        {
          "output_type": "stream",
          "name": "stdout",
          "text": [
            "1/1 [==============================] - 1s 1s/step\n",
            "1/1 [==============================] - 0s 195ms/step\n",
            "1/1 [==============================] - 0s 199ms/step\n",
            "1/1 [==============================] - 0s 188ms/step\n",
            "1/1 [==============================] - 0s 197ms/step\n",
            "1/1 [==============================] - 0s 199ms/step\n",
            "1/1 [==============================] - 0s 208ms/step\n",
            "1/1 [==============================] - 0s 200ms/step\n",
            "1/1 [==============================] - 0s 200ms/step\n",
            "1/1 [==============================] - 0s 196ms/step\n",
            "1/1 [==============================] - 0s 191ms/step\n",
            "1/1 [==============================] - 0s 198ms/step\n",
            "1/1 [==============================] - 0s 193ms/step\n",
            "1/1 [==============================] - 0s 208ms/step\n",
            "1/1 [==============================] - 0s 197ms/step\n",
            "1/1 [==============================] - 0s 195ms/step\n",
            "1/1 [==============================] - 0s 197ms/step\n",
            "1/1 [==============================] - 0s 196ms/step\n",
            "1/1 [==============================] - 0s 197ms/step\n",
            "1/1 [==============================] - 0s 196ms/step\n",
            "1/1 [==============================] - 0s 206ms/step\n",
            "1/1 [==============================] - 0s 204ms/step\n",
            "1/1 [==============================] - 0s 193ms/step\n",
            "1/1 [==============================] - 0s 214ms/step\n",
            "1/1 [==============================] - 0s 201ms/step\n",
            "1/1 [==============================] - 0s 198ms/step\n",
            "1/1 [==============================] - 0s 194ms/step\n",
            "1/1 [==============================] - 0s 207ms/step\n",
            "1/1 [==============================] - 0s 201ms/step\n",
            "1/1 [==============================] - 0s 318ms/step\n",
            "1/1 [==============================] - 0s 332ms/step\n",
            "1/1 [==============================] - 0s 336ms/step\n",
            "1/1 [==============================] - 0s 334ms/step\n",
            "1/1 [==============================] - 0s 323ms/step\n",
            "1/1 [==============================] - 0s 310ms/step\n",
            "1/1 [==============================] - 0s 191ms/step\n",
            "1/1 [==============================] - 0s 211ms/step\n",
            "1/1 [==============================] - 0s 191ms/step\n",
            "1/1 [==============================] - 0s 193ms/step\n",
            "1/1 [==============================] - 0s 201ms/step\n",
            "1/1 [==============================] - 0s 197ms/step\n",
            "1/1 [==============================] - 0s 192ms/step\n",
            "1/1 [==============================] - 0s 210ms/step\n",
            "1/1 [==============================] - 0s 200ms/step\n",
            "1/1 [==============================] - 0s 192ms/step\n",
            "1/1 [==============================] - 0s 210ms/step\n",
            "1/1 [==============================] - 0s 190ms/step\n",
            "1/1 [==============================] - 0s 193ms/step\n",
            "1/1 [==============================] - 0s 204ms/step\n",
            "1/1 [==============================] - 0s 213ms/step\n",
            "1/1 [==============================] - 0s 200ms/step\n",
            "1/1 [==============================] - 0s 191ms/step\n",
            "1/1 [==============================] - 0s 192ms/step\n",
            "1/1 [==============================] - 0s 198ms/step\n",
            "1/1 [==============================] - 0s 196ms/step\n",
            "1/1 [==============================] - 0s 190ms/step\n",
            "1/1 [==============================] - 0s 204ms/step\n",
            "1/1 [==============================] - 0s 196ms/step\n",
            "1/1 [==============================] - 0s 196ms/step\n",
            "1/1 [==============================] - 0s 200ms/step\n",
            "1/1 [==============================] - 0s 196ms/step\n",
            "1/1 [==============================] - 0s 195ms/step\n",
            "1/1 [==============================] - 0s 196ms/step\n",
            "1/1 [==============================] - 0s 206ms/step\n",
            "1/1 [==============================] - 0s 198ms/step\n",
            "1/1 [==============================] - 0s 189ms/step\n",
            "1/1 [==============================] - 0s 203ms/step\n",
            "1/1 [==============================] - 0s 194ms/step\n",
            "1/1 [==============================] - 0s 300ms/step\n",
            "1/1 [==============================] - 0s 341ms/step\n",
            "1/1 [==============================] - 0s 328ms/step\n",
            "1/1 [==============================] - 0s 342ms/step\n",
            "1/1 [==============================] - 0s 335ms/step\n",
            "1/1 [==============================] - 0s 346ms/step\n",
            "1/1 [==============================] - 0s 225ms/step\n",
            "1/1 [==============================] - 0s 190ms/step\n",
            "1/1 [==============================] - 0s 189ms/step\n",
            "1/1 [==============================] - 0s 193ms/step\n",
            "1/1 [==============================] - 0s 202ms/step\n",
            "1/1 [==============================] - 0s 213ms/step\n",
            "1/1 [==============================] - 0s 194ms/step\n",
            "1/1 [==============================] - 0s 201ms/step\n",
            "1/1 [==============================] - 0s 187ms/step\n",
            "1/1 [==============================] - 0s 190ms/step\n",
            "1/1 [==============================] - 0s 195ms/step\n",
            "1/1 [==============================] - 0s 193ms/step\n",
            "1/1 [==============================] - 0s 209ms/step\n",
            "1/1 [==============================] - 0s 194ms/step\n",
            "1/1 [==============================] - 0s 215ms/step\n",
            "1/1 [==============================] - 0s 205ms/step\n",
            "1/1 [==============================] - 0s 201ms/step\n",
            "1/1 [==============================] - 0s 195ms/step\n",
            "1/1 [==============================] - 0s 196ms/step\n",
            "1/1 [==============================] - 0s 197ms/step\n",
            "1/1 [==============================] - 0s 206ms/step\n",
            "1/1 [==============================] - 0s 195ms/step\n",
            "1/1 [==============================] - 0s 204ms/step\n",
            "1/1 [==============================] - 0s 198ms/step\n",
            "1/1 [==============================] - 0s 210ms/step\n",
            "1/1 [==============================] - 0s 201ms/step\n",
            "1/1 [==============================] - 0s 199ms/step\n",
            "1/1 [==============================] - 0s 207ms/step\n",
            "1/1 [==============================] - 0s 200ms/step\n",
            "1/1 [==============================] - 0s 196ms/step\n",
            "1/1 [==============================] - 0s 202ms/step\n",
            "1/1 [==============================] - 0s 324ms/step\n",
            "1/1 [==============================] - 0s 328ms/step\n",
            "1/1 [==============================] - 0s 325ms/step\n",
            "1/1 [==============================] - 0s 332ms/step\n",
            "1/1 [==============================] - 0s 336ms/step\n",
            "1/1 [==============================] - 0s 325ms/step\n",
            "1/1 [==============================] - 0s 327ms/step\n",
            "1/1 [==============================] - 0s 194ms/step\n",
            "1/1 [==============================] - 0s 199ms/step\n",
            "1/1 [==============================] - 0s 202ms/step\n",
            "1/1 [==============================] - 0s 197ms/step\n",
            "1/1 [==============================] - 0s 192ms/step\n",
            "1/1 [==============================] - 0s 201ms/step\n",
            "1/1 [==============================] - 0s 194ms/step\n",
            "1/1 [==============================] - 0s 189ms/step\n",
            "1/1 [==============================] - 0s 213ms/step\n",
            "1/1 [==============================] - 0s 196ms/step\n",
            "1/1 [==============================] - 0s 190ms/step\n",
            "1/1 [==============================] - 0s 192ms/step\n",
            "1/1 [==============================] - 0s 199ms/step\n",
            "1/1 [==============================] - 0s 198ms/step\n",
            "1/1 [==============================] - 0s 195ms/step\n",
            "1/1 [==============================] - 0s 212ms/step\n",
            "1/1 [==============================] - 0s 194ms/step\n",
            "1/1 [==============================] - 0s 194ms/step\n",
            "1/1 [==============================] - 0s 200ms/step\n",
            "1/1 [==============================] - 0s 199ms/step\n",
            "1/1 [==============================] - 0s 198ms/step\n",
            "1/1 [==============================] - 0s 199ms/step\n",
            "1/1 [==============================] - 0s 196ms/step\n",
            "1/1 [==============================] - 0s 195ms/step\n",
            "1/1 [==============================] - 0s 195ms/step\n",
            "1/1 [==============================] - 0s 213ms/step\n",
            "1/1 [==============================] - 0s 193ms/step\n",
            "1/1 [==============================] - 0s 192ms/step\n",
            "1/1 [==============================] - 0s 210ms/step\n",
            "1/1 [==============================] - 0s 190ms/step\n",
            "1/1 [==============================] - 0s 191ms/step\n",
            "1/1 [==============================] - 0s 208ms/step\n",
            "1/1 [==============================] - 0s 299ms/step\n",
            "1/1 [==============================] - 0s 333ms/step\n",
            "1/1 [==============================] - 0s 318ms/step\n",
            "1/1 [==============================] - 0s 317ms/step\n",
            "1/1 [==============================] - 0s 350ms/step\n",
            "1/1 [==============================] - 0s 342ms/step\n",
            "1/1 [==============================] - 0s 320ms/step\n",
            "1/1 [==============================] - 0s 196ms/step\n",
            "1/1 [==============================] - 0s 210ms/step\n",
            "1/1 [==============================] - 0s 195ms/step\n",
            "1/1 [==============================] - 0s 192ms/step\n",
            "1/1 [==============================] - 0s 202ms/step\n",
            "1/1 [==============================] - 0s 195ms/step\n",
            "1/1 [==============================] - 0s 196ms/step\n",
            "1/1 [==============================] - 0s 196ms/step\n",
            "1/1 [==============================] - 0s 216ms/step\n",
            "1/1 [==============================] - 0s 199ms/step\n",
            "1/1 [==============================] - 0s 198ms/step\n",
            "1/1 [==============================] - 0s 206ms/step\n",
            "1/1 [==============================] - 0s 193ms/step\n",
            "1/1 [==============================] - 0s 195ms/step\n",
            "1/1 [==============================] - 0s 197ms/step\n",
            "1/1 [==============================] - 0s 210ms/step\n",
            "1/1 [==============================] - 0s 196ms/step\n",
            "1/1 [==============================] - 0s 196ms/step\n",
            "1/1 [==============================] - 0s 206ms/step\n",
            "1/1 [==============================] - 0s 200ms/step\n",
            "1/1 [==============================] - 0s 192ms/step\n",
            "1/1 [==============================] - 0s 206ms/step\n",
            "1/1 [==============================] - 0s 193ms/step\n",
            "1/1 [==============================] - 0s 189ms/step\n",
            "1/1 [==============================] - 0s 199ms/step\n",
            "1/1 [==============================] - 0s 205ms/step\n",
            "1/1 [==============================] - 0s 193ms/step\n",
            "1/1 [==============================] - 0s 197ms/step\n",
            "1/1 [==============================] - 0s 193ms/step\n",
            "1/1 [==============================] - 0s 191ms/step\n",
            "1/1 [==============================] - 0s 196ms/step\n",
            "1/1 [==============================] - 0s 195ms/step\n",
            "1/1 [==============================] - 0s 188ms/step\n",
            "1/1 [==============================] - 0s 319ms/step\n",
            "1/1 [==============================] - 0s 340ms/step\n",
            "1/1 [==============================] - 0s 334ms/step\n",
            "1/1 [==============================] - 0s 337ms/step\n",
            "1/1 [==============================] - 0s 340ms/step\n",
            "1/1 [==============================] - 0s 285ms/step\n",
            "1/1 [==============================] - 0s 194ms/step\n",
            "1/1 [==============================] - 0s 189ms/step\n",
            "1/1 [==============================] - 0s 206ms/step\n",
            "1/1 [==============================] - 0s 200ms/step\n",
            "1/1 [==============================] - 0s 203ms/step\n",
            "1/1 [==============================] - 0s 203ms/step\n",
            "1/1 [==============================] - 0s 194ms/step\n",
            "1/1 [==============================] - 0s 198ms/step\n",
            "1/1 [==============================] - 0s 195ms/step\n",
            "1/1 [==============================] - 0s 202ms/step\n",
            "1/1 [==============================] - 0s 200ms/step\n",
            "1/1 [==============================] - 0s 193ms/step\n",
            "1/1 [==============================] - 0s 197ms/step\n",
            "1/1 [==============================] - 0s 198ms/step\n",
            "1/1 [==============================] - 0s 197ms/step\n",
            "1/1 [==============================] - 0s 192ms/step\n",
            "1/1 [==============================] - 0s 204ms/step\n",
            "1/1 [==============================] - 0s 199ms/step\n",
            "1/1 [==============================] - 0s 192ms/step\n",
            "1/1 [==============================] - 0s 210ms/step\n",
            "1/1 [==============================] - 0s 197ms/step\n",
            "1/1 [==============================] - 0s 197ms/step\n",
            "1/1 [==============================] - 0s 205ms/step\n",
            "1/1 [==============================] - 0s 197ms/step\n",
            "1/1 [==============================] - 0s 196ms/step\n",
            "1/1 [==============================] - 0s 211ms/step\n",
            "1/1 [==============================] - 0s 199ms/step\n",
            "1/1 [==============================] - 0s 198ms/step\n",
            "1/1 [==============================] - 0s 187ms/step\n",
            "1/1 [==============================] - 0s 204ms/step\n",
            "1/1 [==============================] - 0s 192ms/step\n",
            "1/1 [==============================] - 0s 192ms/step\n",
            "1/1 [==============================] - 0s 200ms/step\n",
            "1/1 [==============================] - 0s 317ms/step\n",
            "1/1 [==============================] - 0s 332ms/step\n",
            "1/1 [==============================] - 0s 338ms/step\n",
            "1/1 [==============================] - 0s 319ms/step\n",
            "1/1 [==============================] - 0s 350ms/step\n",
            "1/1 [==============================] - 0s 321ms/step\n",
            "1/1 [==============================] - 0s 320ms/step\n",
            "1/1 [==============================] - 0s 238ms/step\n",
            "1/1 [==============================] - 0s 197ms/step\n",
            "1/1 [==============================] - 0s 205ms/step\n",
            "1/1 [==============================] - 0s 196ms/step\n",
            "1/1 [==============================] - 0s 194ms/step\n",
            "1/1 [==============================] - 0s 209ms/step\n",
            "1/1 [==============================] - 0s 223ms/step\n",
            "1/1 [==============================] - 0s 463ms/step\n",
            "1/1 [==============================] - 0s 192ms/step\n",
            "1/1 [==============================] - 0s 196ms/step\n",
            "1/1 [==============================] - 0s 212ms/step\n",
            "1/1 [==============================] - 0s 204ms/step\n",
            "1/1 [==============================] - 0s 195ms/step\n",
            "1/1 [==============================] - 0s 197ms/step\n",
            "1/1 [==============================] - 0s 201ms/step\n",
            "1/1 [==============================] - 0s 198ms/step\n",
            "1/1 [==============================] - 0s 202ms/step\n",
            "1/1 [==============================] - 0s 215ms/step\n",
            "1/1 [==============================] - 0s 197ms/step\n",
            "1/1 [==============================] - 0s 198ms/step\n",
            "1/1 [==============================] - 0s 198ms/step\n",
            "1/1 [==============================] - 0s 199ms/step\n",
            "1/1 [==============================] - 0s 199ms/step\n",
            "1/1 [==============================] - 0s 197ms/step\n",
            "1/1 [==============================] - 0s 195ms/step\n",
            "1/1 [==============================] - 0s 205ms/step\n",
            "1/1 [==============================] - 0s 217ms/step\n",
            "1/1 [==============================] - 0s 202ms/step\n",
            "1/1 [==============================] - 0s 201ms/step\n",
            "1/1 [==============================] - 0s 213ms/step\n",
            "1/1 [==============================] - 0s 347ms/step\n",
            "1/1 [==============================] - 0s 338ms/step\n",
            "1/1 [==============================] - 0s 314ms/step\n",
            "1/1 [==============================] - 0s 335ms/step\n",
            "1/1 [==============================] - 0s 333ms/step\n",
            "1/1 [==============================] - 0s 235ms/step\n",
            "1/1 [==============================] - 0s 194ms/step\n",
            "1/1 [==============================] - 0s 192ms/step\n",
            "1/1 [==============================] - 0s 204ms/step\n",
            "1/1 [==============================] - 0s 195ms/step\n",
            "1/1 [==============================] - 0s 197ms/step\n",
            "1/1 [==============================] - 0s 199ms/step\n",
            "1/1 [==============================] - 0s 194ms/step\n",
            "1/1 [==============================] - 0s 200ms/step\n",
            "1/1 [==============================] - 0s 210ms/step\n",
            "1/1 [==============================] - 0s 196ms/step\n",
            "1/1 [==============================] - 0s 196ms/step\n",
            "1/1 [==============================] - 0s 198ms/step\n",
            "1/1 [==============================] - 0s 210ms/step\n",
            "1/1 [==============================] - 0s 195ms/step\n",
            "1/1 [==============================] - 0s 191ms/step\n",
            "1/1 [==============================] - 0s 214ms/step\n",
            "1/1 [==============================] - 0s 201ms/step\n",
            "1/1 [==============================] - 0s 195ms/step\n",
            "1/1 [==============================] - 0s 212ms/step\n",
            "1/1 [==============================] - 0s 206ms/step\n",
            "1/1 [==============================] - 0s 200ms/step\n",
            "1/1 [==============================] - 0s 197ms/step\n",
            "1/1 [==============================] - 0s 198ms/step\n",
            "1/1 [==============================] - 0s 204ms/step\n",
            "1/1 [==============================] - 0s 198ms/step\n",
            "1/1 [==============================] - 0s 214ms/step\n",
            "1/1 [==============================] - 0s 197ms/step\n",
            "1/1 [==============================] - 0s 197ms/step\n",
            "1/1 [==============================] - 0s 206ms/step\n",
            "1/1 [==============================] - 0s 200ms/step\n",
            "1/1 [==============================] - 0s 200ms/step\n",
            "1/1 [==============================] - 0s 303ms/step\n",
            "1/1 [==============================] - 0s 325ms/step\n",
            "1/1 [==============================] - 0s 339ms/step\n",
            "1/1 [==============================] - 0s 342ms/step\n",
            "1/1 [==============================] - 0s 333ms/step\n",
            "1/1 [==============================] - 0s 316ms/step\n",
            "1/1 [==============================] - 0s 235ms/step\n",
            "1/1 [==============================] - 0s 194ms/step\n",
            "1/1 [==============================] - 0s 194ms/step\n",
            "1/1 [==============================] - 0s 209ms/step\n",
            "1/1 [==============================] - 0s 197ms/step\n",
            "1/1 [==============================] - 0s 193ms/step\n",
            "1/1 [==============================] - 0s 207ms/step\n",
            "1/1 [==============================] - 0s 194ms/step\n",
            "1/1 [==============================] - 0s 189ms/step\n",
            "1/1 [==============================] - 0s 195ms/step\n",
            "1/1 [==============================] - 0s 214ms/step\n",
            "1/1 [==============================] - 0s 201ms/step\n",
            "1/1 [==============================] - 0s 195ms/step\n",
            "1/1 [==============================] - 0s 200ms/step\n",
            "1/1 [==============================] - 0s 194ms/step\n",
            "1/1 [==============================] - 0s 194ms/step\n",
            "1/1 [==============================] - 0s 195ms/step\n",
            "1/1 [==============================] - 0s 210ms/step\n",
            "1/1 [==============================] - 0s 197ms/step\n",
            "1/1 [==============================] - 0s 194ms/step\n",
            "1/1 [==============================] - 0s 211ms/step\n",
            "1/1 [==============================] - 0s 195ms/step\n",
            "1/1 [==============================] - 0s 198ms/step\n",
            "1/1 [==============================] - 0s 224ms/step\n",
            "1/1 [==============================] - 0s 209ms/step\n",
            "1/1 [==============================] - 0s 200ms/step\n",
            "1/1 [==============================] - 0s 210ms/step\n",
            "1/1 [==============================] - 0s 200ms/step\n",
            "1/1 [==============================] - 0s 199ms/step\n",
            "1/1 [==============================] - 0s 199ms/step\n",
            "1/1 [==============================] - 0s 221ms/step\n",
            "1/1 [==============================] - 0s 193ms/step\n",
            "1/1 [==============================] - 0s 330ms/step\n",
            "1/1 [==============================] - 0s 331ms/step\n",
            "1/1 [==============================] - 0s 325ms/step\n",
            "1/1 [==============================] - 0s 332ms/step\n",
            "1/1 [==============================] - 0s 339ms/step\n",
            "1/1 [==============================] - 0s 336ms/step\n",
            "1/1 [==============================] - 0s 325ms/step\n",
            "1/1 [==============================] - 0s 209ms/step\n",
            "1/1 [==============================] - 0s 196ms/step\n",
            "1/1 [==============================] - 0s 201ms/step\n",
            "1/1 [==============================] - 0s 210ms/step\n",
            "1/1 [==============================] - 0s 190ms/step\n",
            "1/1 [==============================] - 0s 190ms/step\n",
            "1/1 [==============================] - 0s 197ms/step\n",
            "1/1 [==============================] - 0s 213ms/step\n",
            "1/1 [==============================] - 0s 198ms/step\n",
            "1/1 [==============================] - 0s 201ms/step\n",
            "1/1 [==============================] - 0s 195ms/step\n",
            "1/1 [==============================] - 0s 198ms/step\n",
            "1/1 [==============================] - 0s 195ms/step\n",
            "1/1 [==============================] - 0s 197ms/step\n",
            "1/1 [==============================] - 0s 192ms/step\n",
            "1/1 [==============================] - 0s 193ms/step\n",
            "1/1 [==============================] - 0s 200ms/step\n",
            "1/1 [==============================] - 0s 209ms/step\n",
            "1/1 [==============================] - 0s 194ms/step\n",
            "1/1 [==============================] - 0s 196ms/step\n",
            "1/1 [==============================] - 0s 217ms/step\n",
            "1/1 [==============================] - 0s 199ms/step\n",
            "1/1 [==============================] - 0s 200ms/step\n",
            "1/1 [==============================] - 0s 198ms/step\n",
            "1/1 [==============================] - 0s 206ms/step\n",
            "1/1 [==============================] - 0s 207ms/step\n",
            "1/1 [==============================] - 0s 199ms/step\n",
            "1/1 [==============================] - 0s 210ms/step\n",
            "1/1 [==============================] - 0s 198ms/step\n",
            "1/1 [==============================] - 0s 203ms/step\n",
            "1/1 [==============================] - 0s 197ms/step\n",
            "1/1 [==============================] - 0s 207ms/step\n",
            "1/1 [==============================] - 0s 202ms/step\n",
            "1/1 [==============================] - 0s 237ms/step\n",
            "1/1 [==============================] - 0s 339ms/step\n",
            "1/1 [==============================] - 0s 333ms/step\n",
            "1/1 [==============================] - 0s 329ms/step\n",
            "1/1 [==============================] - 0s 348ms/step\n",
            "1/1 [==============================] - 0s 314ms/step\n",
            "1/1 [==============================] - 0s 218ms/step\n",
            "1/1 [==============================] - 0s 200ms/step\n",
            "1/1 [==============================] - 0s 197ms/step\n",
            "1/1 [==============================] - 0s 200ms/step\n",
            "1/1 [==============================] - 0s 203ms/step\n",
            "1/1 [==============================] - 0s 206ms/step\n",
            "1/1 [==============================] - 0s 200ms/step\n",
            "1/1 [==============================] - 0s 200ms/step\n",
            "1/1 [==============================] - 0s 198ms/step\n",
            "1/1 [==============================] - 0s 198ms/step\n",
            "1/1 [==============================] - 0s 206ms/step\n",
            "1/1 [==============================] - 0s 202ms/step\n",
            "1/1 [==============================] - 0s 204ms/step\n",
            "1/1 [==============================] - 0s 217ms/step\n",
            "1/1 [==============================] - 0s 201ms/step\n",
            "1/1 [==============================] - 0s 203ms/step\n",
            "1/1 [==============================] - 0s 217ms/step\n",
            "1/1 [==============================] - 0s 198ms/step\n",
            "1/1 [==============================] - 0s 195ms/step\n",
            "1/1 [==============================] - 0s 212ms/step\n",
            "1/1 [==============================] - 0s 195ms/step\n",
            "1/1 [==============================] - 0s 200ms/step\n",
            "1/1 [==============================] - 0s 193ms/step\n",
            "1/1 [==============================] - 0s 198ms/step\n",
            "1/1 [==============================] - 0s 198ms/step\n",
            "1/1 [==============================] - 0s 194ms/step\n",
            "1/1 [==============================] - 0s 212ms/step\n",
            "1/1 [==============================] - 0s 203ms/step\n",
            "1/1 [==============================] - 0s 194ms/step\n",
            "1/1 [==============================] - 0s 192ms/step\n",
            "1/1 [==============================] - 0s 193ms/step\n",
            "1/1 [==============================] - 0s 199ms/step\n",
            "1/1 [==============================] - 0s 315ms/step\n",
            "1/1 [==============================] - 0s 345ms/step\n",
            "1/1 [==============================] - 0s 332ms/step\n",
            "1/1 [==============================] - 0s 325ms/step\n",
            "1/1 [==============================] - 0s 262ms/step\n",
            "1/1 [==============================] - 0s 198ms/step\n",
            "1/1 [==============================] - 0s 209ms/step\n",
            "1/1 [==============================] - 0s 193ms/step\n",
            "1/1 [==============================] - 0s 193ms/step\n",
            "1/1 [==============================] - 0s 195ms/step\n",
            "1/1 [==============================] - 0s 201ms/step\n",
            "1/1 [==============================] - 0s 197ms/step\n",
            "1/1 [==============================] - 0s 202ms/step\n",
            "1/1 [==============================] - 0s 210ms/step\n",
            "1/1 [==============================] - 0s 199ms/step\n",
            "1/1 [==============================] - 0s 193ms/step\n",
            "1/1 [==============================] - 0s 213ms/step\n",
            "1/1 [==============================] - 0s 196ms/step\n",
            "1/1 [==============================] - 0s 192ms/step\n",
            "1/1 [==============================] - 0s 199ms/step\n",
            "1/1 [==============================] - 0s 213ms/step\n",
            "1/1 [==============================] - 0s 202ms/step\n"
          ]
        },
        {
          "output_type": "display_data",
          "data": {
            "text/plain": [
              "<Figure size 640x480 with 2 Axes>"
            ],
            "image/png": "[encoded data removed]"
          },
          "metadata": {}
        },
        {
          "output_type": "stream",
          "name": "stdout",
          "text": [
            "test accuracy : 91.72413793103448\n"
          ]
        }
      ],
      "source": [
        "import pandas as pd\n",
        "import seaborn as sn\n",
        "import tensorflow as tf\n",
        "\n",
        "model = tf.keras.models.load_model('/content/drive/MyDrive/KHOA_LUAN/saved_model/ResNet50_Weather_epoch20.h5')\n",
        "filenames = test_generator.filenames\n",
        "nb_samples = len(test_generator)\n",
        "y_prob=[]\n",
        "y_act=[]\n",
        "test_generator.reset()\n",
        "\n",
        "# lấy input, output mong muốn -> nhét kết quả dự đoán vào y_prob, output mong muốn vào y_actual\n",
        "for _ in range(nb_samples):\n",
        "  X_test, Y_test = test_generator.next()\n",
        "  y_prob.append(model.predict(X_test))\n",
        "  y_act.append(Y_test)\n",
        "\n",
        "predicted_class = [list(train_generator.class_indices.keys())[i.argmax()] for i in y_prob]\n",
        "actual_class =  [list(train_generator.class_indices.keys())[i.argmax()] for i in y_act]\n",
        "\n",
        "out_df = pd.DataFrame(np.vstack([predicted_class, actual_class]).T, columns=['predicted_class', 'actual_class'])\n",
        "confusion_matrix = pd.crosstab(out_df['actual_class'], out_df['predicted_class'], rownames=['Actual'], colnames=['Predicted'])\n",
        "\n",
        "sn.heatmap(confusion_matrix, cmap='Blues', annot=True, fmt='d')\n",
        "plt.show()\n",
        "print('test accuracy : {}'.format((np.diagonal(confusion_matrix).sum()/confusion_matrix.sum().sum()*100)))"
      ]
    },
    {
      "cell_type": "markdown",
      "metadata": {
        "id": "dV0FQflnJNfv"
      },
      "source": [
        "TÍNH TOÁN CONFUSION MATIRIX, PRECISION, RECALL VÀ F1-SCORE\n"
      ]
    },
    {
      "cell_type": "code",
      "source": [
        "print(predicted_class)\n",
        "#print(y_act)\n"
      ],
      "metadata": {
        "colab": {
          "base_uri": "https://localhost:8080/"
        },
        "id": "F9xjv8tPBty2",
        "outputId": "39038e79-6473-43b5-8122-5411d2b37ddd"
      },
      "execution_count": null,
      "outputs": [
        {
          "output_type": "stream",
          "name": "stdout",
          "text": [
            "['Snowy', 'Fog', 'Fog', 'Sunrise', 'Sandy', 'Sandy', 'Fog', 'Snowy', 'Snowy', 'Sunrise', 'Cloudy', 'Fog', 'Rainy', 'Fog', 'Shine', 'Snowy', 'Cloudy', 'Sandy', 'Rainy', 'Sunrise', 'Cloudy', 'Sunrise', 'Cloudy', 'Sandy', 'Shine', 'Cloudy', 'Fog', 'Shine', 'Sandy', 'Shine', 'Sunrise', 'Sandy', 'Sandy', 'Sandy', 'Shine', 'Sandy', 'Cloudy', 'Rainy', 'Rainy', 'Shine', 'Shine', 'Rainy', 'Rainy', 'Shine', 'Rainy', 'Cloudy', 'Sunrise', 'Sunrise', 'Sunrise', 'Rainy', 'Sandy', 'Cloudy', 'Shine', 'Sandy', 'Rainy', 'Cloudy', 'Sunrise', 'Fog', 'Shine', 'Sunrise', 'Shine', 'Fog', 'Cloudy', 'Sandy', 'Sunrise', 'Sunrise', 'Fog', 'Snowy', 'Rainy', 'Cloudy', 'Sunrise', 'Snowy', 'Sunrise', 'Cloudy', 'Cloudy', 'Cloudy', 'Rainy', 'Shine', 'Fog', 'Rainy', 'Rainy', 'Cloudy', 'Rainy', 'Sandy', 'Rainy', 'Fog', 'Fog', 'Sandy', 'Sunrise', 'Sandy', 'Sandy', 'Snowy', 'Snowy', 'Rainy', 'Cloudy', 'Snowy', 'Sunrise', 'Sandy', 'Sunrise', 'Rainy', 'Fog', 'Rainy', 'Sandy', 'Sandy', 'Shine', 'Cloudy', 'Rainy', 'Snowy', 'Rainy', 'Rainy', 'Sunrise', 'Shine', 'Shine', 'Sandy', 'Shine', 'Rainy', 'Rainy', 'Snowy', 'Sunrise', 'Sunrise', 'Shine', 'Sandy', 'Snowy', 'Sunrise', 'Rainy', 'Sandy', 'Snowy', 'Shine', 'Shine', 'Fog', 'Sandy', 'Sunrise', 'Sandy', 'Sunrise', 'Shine', 'Shine', 'Rainy', 'Fog', 'Rainy', 'Fog', 'Shine', 'Sandy', 'Shine', 'Fog', 'Shine', 'Shine', 'Rainy', 'Fog', 'Cloudy', 'Sunrise', 'Sunrise', 'Sunrise', 'Rainy', 'Snowy', 'Sandy', 'Sandy', 'Snowy', 'Rainy', 'Snowy', 'Shine', 'Sunrise', 'Fog', 'Rainy', 'Cloudy', 'Fog', 'Sandy', 'Fog', 'Shine', 'Snowy', 'Snowy', 'Rainy', 'Rainy', 'Rainy', 'Rainy', 'Fog', 'Shine', 'Fog', 'Rainy', 'Rainy', 'Shine', 'Shine', 'Sunrise', 'Cloudy', 'Cloudy', 'Snowy', 'Rainy', 'Rainy', 'Sunrise', 'Rainy', 'Sunrise', 'Cloudy', 'Sunrise', 'Fog', 'Fog', 'Shine', 'Shine', 'Shine', 'Rainy', 'Sunrise', 'Rainy', 'Sandy', 'Sandy', 'Rainy', 'Rainy', 'Cloudy', 'Snowy', 'Rainy', 'Cloudy', 'Shine', 'Shine', 'Sunrise', 'Fog', 'Cloudy', 'Sandy', 'Sunrise', 'Cloudy', 'Shine', 'Sunrise', 'Sunrise', 'Snowy', 'Sunrise', 'Cloudy', 'Shine', 'Cloudy', 'Sandy', 'Rainy', 'Fog', 'Rainy', 'Cloudy', 'Sunrise', 'Cloudy', 'Fog', 'Fog', 'Cloudy', 'Snowy', 'Fog', 'Rainy', 'Sunrise', 'Cloudy', 'Rainy', 'Rainy', 'Sandy', 'Rainy', 'Sandy', 'Sunrise', 'Rainy', 'Rainy', 'Snowy', 'Cloudy', 'Sunrise', 'Sunrise', 'Sandy', 'Sunrise', 'Cloudy', 'Rainy', 'Cloudy', 'Snowy', 'Cloudy', 'Rainy', 'Sandy', 'Sunrise', 'Rainy', 'Snowy', 'Snowy', 'Fog', 'Rainy', 'Sunrise', 'Rainy', 'Snowy', 'Cloudy', 'Sandy', 'Fog', 'Cloudy', 'Shine', 'Snowy', 'Fog', 'Sunrise', 'Sunrise', 'Sunrise', 'Sandy', 'Sunrise', 'Snowy', 'Cloudy', 'Snowy', 'Sandy', 'Cloudy', 'Sunrise', 'Sandy', 'Fog', 'Fog', 'Fog', 'Rainy', 'Sandy', 'Fog', 'Shine', 'Fog', 'Sunrise', 'Snowy', 'Rainy', 'Shine', 'Fog', 'Rainy', 'Sunrise', 'Shine', 'Rainy', 'Cloudy', 'Sunrise', 'Sandy', 'Cloudy', 'Fog', 'Fog', 'Rainy', 'Sunrise', 'Rainy', 'Snowy', 'Rainy', 'Rainy', 'Sunrise', 'Snowy', 'Sunrise', 'Fog', 'Sandy', 'Fog', 'Shine', 'Fog', 'Snowy', 'Snowy', 'Fog', 'Snowy', 'Fog', 'Snowy', 'Sandy', 'Shine', 'Rainy', 'Fog', 'Cloudy', 'Sandy', 'Fog', 'Sandy', 'Shine', 'Fog', 'Rainy', 'Sandy', 'Rainy', 'Shine', 'Sunrise', 'Fog', 'Snowy', 'Sandy', 'Sandy', 'Fog', 'Sunrise', 'Sunrise', 'Rainy', 'Sunrise', 'Sandy', 'Sunrise', 'Fog', 'Shine', 'Sandy', 'Sandy', 'Rainy', 'Rainy', 'Fog', 'Cloudy', 'Rainy', 'Snowy', 'Sunrise', 'Rainy', 'Sunrise', 'Rainy', 'Sunrise', 'Cloudy', 'Rainy', 'Rainy', 'Cloudy', 'Sandy', 'Fog', 'Sunrise', 'Shine', 'Sunrise', 'Sunrise', 'Fog', 'Cloudy', 'Shine', 'Rainy', 'Shine', 'Fog', 'Rainy', 'Sandy', 'Cloudy', 'Shine', 'Rainy', 'Fog', 'Fog', 'Sunrise', 'Fog', 'Fog', 'Cloudy', 'Sandy', 'Rainy', 'Shine', 'Rainy', 'Sandy', 'Shine', 'Shine', 'Shine', 'Shine', 'Fog', 'Rainy', 'Snowy', 'Sandy', 'Cloudy', 'Fog', 'Sunrise', 'Sunrise', 'Cloudy', 'Rainy', 'Sunrise', 'Sunrise', 'Shine', 'Cloudy', 'Snowy', 'Sandy', 'Cloudy', 'Shine', 'Cloudy', 'Fog', 'Fog', 'Fog', 'Shine', 'Fog', 'Rainy', 'Cloudy', 'Sandy']\n"
          ]
        }
      ]
    },
    {
      "cell_type": "code",
      "execution_count": null,
      "metadata": {
        "id": "suRG3BaRsWai"
      },
      "outputs": [],
      "source": [
        "#Now we calculate the Accuracy, Precision, Recall, and F1 Score\n",
        "from sklearn.metrics import accuracy_score,precision_score,recall_score,f1_score\n",
        "#Each function of above uses two 1D array, So we use y and y_pred\n",
        "print(\"Accuracy: \",accuracy_score(y_act,y_prob))\n",
        "print(\"Precision: \",precision_score(y_act,y_prob))\n",
        "print(\"Recall: \",recall_score(y_act,y_prob))\n",
        "print(\"F1 Score: \",f1_score(y_act,y_prob))"
      ]
    },
    {
      "cell_type": "code",
      "execution_count": null,
      "metadata": {
        "id": "SMNxwJIwJPeA"
      },
      "outputs": [],
      "source": [
        "from sklearn.metrics import roc_auc_score\n",
        "from sklearn.metrics import confusion_matrix, classification_report"
      ]
    },
    {
      "cell_type": "code",
      "execution_count": null,
      "metadata": {
        "id": "DSYAyQLpr5LW"
      },
      "outputs": [],
      "source": [
        "# Calculate: Precision / Recall / F1\n",
        "print(classification_report(y_act, y_prob))"
      ]
    },
    {
      "cell_type": "code",
      "execution_count": null,
      "metadata": {
        "id": "9EShTjTiJlVI",
        "colab": {
          "base_uri": "https://localhost:8080/",
          "height": 332
        },
        "outputId": "32b6d65f-09e9-4df9-8031-c37616766736"
      },
      "outputs": [
        {
          "output_type": "error",
          "ename": "TypeError",
          "evalue": "'>=' not supported between instances of 'slice' and 'int'",
          "traceback": [
            "\u001b[0;31m---------------------------------------------------------------------------\u001b[0m",
            "\u001b[0;31mTypeError\u001b[0m                                 Traceback (most recent call last)",
            "\u001b[0;32m<ipython-input-20-784e8a867110>\u001b[0m in \u001b[0;36m<cell line: 1>\u001b[0;34m()\u001b[0m\n\u001b[0;32m----> 1\u001b[0;31m \u001b[0my_hat\u001b[0m \u001b[0;34m=\u001b[0m \u001b[0mmodel\u001b[0m\u001b[0;34m.\u001b[0m\u001b[0mpredict\u001b[0m\u001b[0;34m(\u001b[0m\u001b[0mtest_generator\u001b[0m\u001b[0;34m[\u001b[0m\u001b[0;34m:\u001b[0m\u001b[0;34m]\u001b[0m\u001b[0;34m[\u001b[0m\u001b[0;36m0\u001b[0m\u001b[0;34m]\u001b[0m\u001b[0;34m)\u001b[0m\u001b[0;34m\u001b[0m\u001b[0;34m\u001b[0m\u001b[0m\n\u001b[0m\u001b[1;32m      2\u001b[0m \u001b[0my_pred\u001b[0m \u001b[0;34m=\u001b[0m \u001b[0mnp\u001b[0m\u001b[0;34m.\u001b[0m\u001b[0margmax\u001b[0m\u001b[0;34m(\u001b[0m\u001b[0my_hat\u001b[0m\u001b[0;34m,\u001b[0m \u001b[0maxis\u001b[0m\u001b[0;34m=\u001b[0m\u001b[0;36m1\u001b[0m\u001b[0;34m)\u001b[0m\u001b[0;34m\u001b[0m\u001b[0;34m\u001b[0m\u001b[0m\n\u001b[1;32m      3\u001b[0m \u001b[0my_test_label\u001b[0m \u001b[0;34m=\u001b[0m  \u001b[0mnp\u001b[0m\u001b[0;34m.\u001b[0m\u001b[0margmax\u001b[0m\u001b[0;34m(\u001b[0m\u001b[0mtest_generator\u001b[0m\u001b[0;34m[\u001b[0m\u001b[0;34m:\u001b[0m\u001b[0;34m]\u001b[0m\u001b[0;34m[\u001b[0m\u001b[0;36m1\u001b[0m\u001b[0;34m]\u001b[0m\u001b[0;34m,\u001b[0m \u001b[0maxis\u001b[0m\u001b[0;34m=\u001b[0m\u001b[0;36m1\u001b[0m\u001b[0;34m)\u001b[0m\u001b[0;34m\u001b[0m\u001b[0;34m\u001b[0m\u001b[0m\n\u001b[1;32m      4\u001b[0m \u001b[0;34m\u001b[0m\u001b[0m\n\u001b[1;32m      5\u001b[0m \u001b[0;34m\u001b[0m\u001b[0m\n",
            "\u001b[0;32m/usr/local/lib/python3.10/dist-packages/keras/src/preprocessing/image.py\u001b[0m in \u001b[0;36m__getitem__\u001b[0;34m(self, idx)\u001b[0m\n\u001b[1;32m    100\u001b[0m \u001b[0;34m\u001b[0m\u001b[0m\n\u001b[1;32m    101\u001b[0m     \u001b[0;32mdef\u001b[0m \u001b[0m__getitem__\u001b[0m\u001b[0;34m(\u001b[0m\u001b[0mself\u001b[0m\u001b[0;34m,\u001b[0m \u001b[0midx\u001b[0m\u001b[0;34m)\u001b[0m\u001b[0;34m:\u001b[0m\u001b[0;34m\u001b[0m\u001b[0;34m\u001b[0m\u001b[0m\n\u001b[0;32m--> 102\u001b[0;31m         \u001b[0;32mif\u001b[0m \u001b[0midx\u001b[0m \u001b[0;34m>=\u001b[0m \u001b[0mlen\u001b[0m\u001b[0;34m(\u001b[0m\u001b[0mself\u001b[0m\u001b[0;34m)\u001b[0m\u001b[0;34m:\u001b[0m\u001b[0;34m\u001b[0m\u001b[0;34m\u001b[0m\u001b[0m\n\u001b[0m\u001b[1;32m    103\u001b[0m             raise ValueError(\n\u001b[1;32m    104\u001b[0m                 \u001b[0;34m\"Asked to retrieve element {idx}, \"\u001b[0m\u001b[0;34m\u001b[0m\u001b[0;34m\u001b[0m\u001b[0m\n",
            "\u001b[0;31mTypeError\u001b[0m: '>=' not supported between instances of 'slice' and 'int'"
          ]
        }
      ],
      "source": [
        "y_hat = model.predict(test_generator[:][0])\n",
        "y_pred = np.argmax(y_hat, axis=1)\n",
        "y_test_label =  np.argmax(test_generator[:][1], axis=1)\n",
        "\n",
        "\n",
        "# Tính accuracy: (tp + tn) / (p + n)\n",
        "accuracy = accuracy_score(y_test_label, y_pred)\n",
        "print('Accuracy: %f' % accuracy)\n",
        "# Tính precision tp / (tp + fp)\n",
        "precision = precision_score(y_test_label, y_pred, average='macro')\n",
        "print('Precision: %f' % precision)\n",
        "# Tính recall: tp / (tp + fn)\n",
        "recall = recall_score(y_test_label, y_pred, average='macro')\n",
        "print('Recall: %f' % recall)\n",
        "# Tính f1: 2 tp / (2 tp + fp + fn)\n",
        "f1 = f1_score(y_test_label, y_pred, average='macro')\n",
        "print('F1 score: %f' % f1)\n",
        "# Tính Area under ROC\n",
        "auc = roc_auc_score(y_test, y_hat, multi_class='ovr')\n",
        "print('ROC AUC: %f' % auc)\n",
        "# Tính confusion matrix\n",
        "matrix = confusion_matrix(y_test_label, y_pred)\n",
        "print(matrix)"
      ]
    }
  ],
  "metadata": {
    "accelerator": "GPU",
    "colab": {
      "gpuType": "T4",
      "provenance": [],
      "mount_file_id": "1hCiJ7Tp6W1TUDXt5idg2F-sgeWS2058y",
      "authorship_tag": "ABX9TyPnhKlmmAWanHguF6vdEWO5",
      "include_colab_link": true
    },
    "kernelspec": {
      "display_name": "Python 3",
      "name": "python3"
    },
    "language_info": {
      "name": "python"
    }
  },
  "nbformat": 4,
  "nbformat_minor": 0
}